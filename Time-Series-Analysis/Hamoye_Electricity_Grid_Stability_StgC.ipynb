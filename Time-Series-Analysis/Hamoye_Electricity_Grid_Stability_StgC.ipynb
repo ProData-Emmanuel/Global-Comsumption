{
  "nbformat": 4,
  "nbformat_minor": 0,
  "metadata": {
    "accelerator": "GPU",
    "colab": {
      "name": "Okeke-Emmanuel-Electricity Grid Stability-Hamoye-StgC.ipynb",
      "provenance": [],
      "collapsed_sections": [],
      "authorship_tag": "ABX9TyNy9DQ85Ti+OiuEXujtBA/F",
      "include_colab_link": true
    },
    "kernelspec": {
      "display_name": "Python 3",
      "name": "python3"
    }
  },
  "cells": [
    {
      "cell_type": "markdown",
      "metadata": {
        "id": "view-in-github",
        "colab_type": "text"
      },
      "source": [
        "<a href=\"https://colab.research.google.com/github/ProData-Emmanuel/Global-Comsumption/blob/main/Okeke_Emmanuel_Electricity_Grid_Stability_Hamoye_StgC.ipynb\" target=\"_parent\"><img src=\"https://colab.research.google.com/assets/colab-badge.svg\" alt=\"Open In Colab\"/></a>"
      ]
    },
    {
      "cell_type": "markdown",
      "metadata": {
        "id": "W5kJ-oBAQohJ"
      },
      "source": [
        "## OBJECTIVE: To Predict the Stability or not of Global Electricity Grids\n",
        "\n",
        "### Description: Stability of the Grid System\n",
        "Electrical grids require a balance between electricity supply and demand in order to be stable. Conventional systems achieve this balance through demand-driven electricity production. For future grids with a high share of inflexible (i.e., renewable) energy source, the concept of demand response is a promising solution. This implies changes in electricity consumption in relation to electricity price changes. In this work, different algorithms were used to built binary classifiers to predict if a grid is stable or unstable using the UCI Electrical Grid Stability Simulated dataset. Performnce Metrics are used to determine the accuracy of the predictions.\n",
        "\n",
        "**Dataset Link:** https://archive.ics.uci.edu/ml/datasets/Electrical+Grid+Stability+Simulated+Data+\n",
        "It has 12 primary predictive features and two dependent variables.\n",
        "\n",
        "### (See ReadMe File)\t\n"
      ]
    },
    {
      "cell_type": "code",
      "metadata": {
        "colab": {
          "base_uri": "https://localhost:8080/",
          "height": 419
        },
        "id": "0-KYTELXKD8_",
        "outputId": "bf2dfba4-86d2-44a4-e9bc-83e974130243"
      },
      "source": [
        "import pandas as pd\n",
        "url = \"https://archive.ics.uci.edu/ml/machine-learning-databases/00471/Data_for_UCI_named.csv\"\n",
        "df = pd.read_csv(url)\n",
        "df"
      ],
      "execution_count": null,
      "outputs": [
        {
          "output_type": "execute_result",
          "data": {
            "text/html": [
              "<div>\n",
              "<style scoped>\n",
              "    .dataframe tbody tr th:only-of-type {\n",
              "        vertical-align: middle;\n",
              "    }\n",
              "\n",
              "    .dataframe tbody tr th {\n",
              "        vertical-align: top;\n",
              "    }\n",
              "\n",
              "    .dataframe thead th {\n",
              "        text-align: right;\n",
              "    }\n",
              "</style>\n",
              "<table border=\"1\" class=\"dataframe\">\n",
              "  <thead>\n",
              "    <tr style=\"text-align: right;\">\n",
              "      <th></th>\n",
              "      <th>tau1</th>\n",
              "      <th>tau2</th>\n",
              "      <th>tau3</th>\n",
              "      <th>tau4</th>\n",
              "      <th>p1</th>\n",
              "      <th>p2</th>\n",
              "      <th>p3</th>\n",
              "      <th>p4</th>\n",
              "      <th>g1</th>\n",
              "      <th>g2</th>\n",
              "      <th>g3</th>\n",
              "      <th>g4</th>\n",
              "      <th>stab</th>\n",
              "      <th>stabf</th>\n",
              "    </tr>\n",
              "  </thead>\n",
              "  <tbody>\n",
              "    <tr>\n",
              "      <th>0</th>\n",
              "      <td>2.959060</td>\n",
              "      <td>3.079885</td>\n",
              "      <td>8.381025</td>\n",
              "      <td>9.780754</td>\n",
              "      <td>3.763085</td>\n",
              "      <td>-0.782604</td>\n",
              "      <td>-1.257395</td>\n",
              "      <td>-1.723086</td>\n",
              "      <td>0.650456</td>\n",
              "      <td>0.859578</td>\n",
              "      <td>0.887445</td>\n",
              "      <td>0.958034</td>\n",
              "      <td>0.055347</td>\n",
              "      <td>unstable</td>\n",
              "    </tr>\n",
              "    <tr>\n",
              "      <th>1</th>\n",
              "      <td>9.304097</td>\n",
              "      <td>4.902524</td>\n",
              "      <td>3.047541</td>\n",
              "      <td>1.369357</td>\n",
              "      <td>5.067812</td>\n",
              "      <td>-1.940058</td>\n",
              "      <td>-1.872742</td>\n",
              "      <td>-1.255012</td>\n",
              "      <td>0.413441</td>\n",
              "      <td>0.862414</td>\n",
              "      <td>0.562139</td>\n",
              "      <td>0.781760</td>\n",
              "      <td>-0.005957</td>\n",
              "      <td>stable</td>\n",
              "    </tr>\n",
              "    <tr>\n",
              "      <th>2</th>\n",
              "      <td>8.971707</td>\n",
              "      <td>8.848428</td>\n",
              "      <td>3.046479</td>\n",
              "      <td>1.214518</td>\n",
              "      <td>3.405158</td>\n",
              "      <td>-1.207456</td>\n",
              "      <td>-1.277210</td>\n",
              "      <td>-0.920492</td>\n",
              "      <td>0.163041</td>\n",
              "      <td>0.766689</td>\n",
              "      <td>0.839444</td>\n",
              "      <td>0.109853</td>\n",
              "      <td>0.003471</td>\n",
              "      <td>unstable</td>\n",
              "    </tr>\n",
              "    <tr>\n",
              "      <th>3</th>\n",
              "      <td>0.716415</td>\n",
              "      <td>7.669600</td>\n",
              "      <td>4.486641</td>\n",
              "      <td>2.340563</td>\n",
              "      <td>3.963791</td>\n",
              "      <td>-1.027473</td>\n",
              "      <td>-1.938944</td>\n",
              "      <td>-0.997374</td>\n",
              "      <td>0.446209</td>\n",
              "      <td>0.976744</td>\n",
              "      <td>0.929381</td>\n",
              "      <td>0.362718</td>\n",
              "      <td>0.028871</td>\n",
              "      <td>unstable</td>\n",
              "    </tr>\n",
              "    <tr>\n",
              "      <th>4</th>\n",
              "      <td>3.134112</td>\n",
              "      <td>7.608772</td>\n",
              "      <td>4.943759</td>\n",
              "      <td>9.857573</td>\n",
              "      <td>3.525811</td>\n",
              "      <td>-1.125531</td>\n",
              "      <td>-1.845975</td>\n",
              "      <td>-0.554305</td>\n",
              "      <td>0.797110</td>\n",
              "      <td>0.455450</td>\n",
              "      <td>0.656947</td>\n",
              "      <td>0.820923</td>\n",
              "      <td>0.049860</td>\n",
              "      <td>unstable</td>\n",
              "    </tr>\n",
              "    <tr>\n",
              "      <th>...</th>\n",
              "      <td>...</td>\n",
              "      <td>...</td>\n",
              "      <td>...</td>\n",
              "      <td>...</td>\n",
              "      <td>...</td>\n",
              "      <td>...</td>\n",
              "      <td>...</td>\n",
              "      <td>...</td>\n",
              "      <td>...</td>\n",
              "      <td>...</td>\n",
              "      <td>...</td>\n",
              "      <td>...</td>\n",
              "      <td>...</td>\n",
              "      <td>...</td>\n",
              "    </tr>\n",
              "    <tr>\n",
              "      <th>9995</th>\n",
              "      <td>2.930406</td>\n",
              "      <td>9.487627</td>\n",
              "      <td>2.376523</td>\n",
              "      <td>6.187797</td>\n",
              "      <td>3.343416</td>\n",
              "      <td>-0.658054</td>\n",
              "      <td>-1.449106</td>\n",
              "      <td>-1.236256</td>\n",
              "      <td>0.601709</td>\n",
              "      <td>0.779642</td>\n",
              "      <td>0.813512</td>\n",
              "      <td>0.608385</td>\n",
              "      <td>0.023892</td>\n",
              "      <td>unstable</td>\n",
              "    </tr>\n",
              "    <tr>\n",
              "      <th>9996</th>\n",
              "      <td>3.392299</td>\n",
              "      <td>1.274827</td>\n",
              "      <td>2.954947</td>\n",
              "      <td>6.894759</td>\n",
              "      <td>4.349512</td>\n",
              "      <td>-1.663661</td>\n",
              "      <td>-0.952437</td>\n",
              "      <td>-1.733414</td>\n",
              "      <td>0.502079</td>\n",
              "      <td>0.567242</td>\n",
              "      <td>0.285880</td>\n",
              "      <td>0.366120</td>\n",
              "      <td>-0.025803</td>\n",
              "      <td>stable</td>\n",
              "    </tr>\n",
              "    <tr>\n",
              "      <th>9997</th>\n",
              "      <td>2.364034</td>\n",
              "      <td>2.842030</td>\n",
              "      <td>8.776391</td>\n",
              "      <td>1.008906</td>\n",
              "      <td>4.299976</td>\n",
              "      <td>-1.380719</td>\n",
              "      <td>-0.943884</td>\n",
              "      <td>-1.975373</td>\n",
              "      <td>0.487838</td>\n",
              "      <td>0.986505</td>\n",
              "      <td>0.149286</td>\n",
              "      <td>0.145984</td>\n",
              "      <td>-0.031810</td>\n",
              "      <td>stable</td>\n",
              "    </tr>\n",
              "    <tr>\n",
              "      <th>9998</th>\n",
              "      <td>9.631511</td>\n",
              "      <td>3.994398</td>\n",
              "      <td>2.757071</td>\n",
              "      <td>7.821347</td>\n",
              "      <td>2.514755</td>\n",
              "      <td>-0.966330</td>\n",
              "      <td>-0.649915</td>\n",
              "      <td>-0.898510</td>\n",
              "      <td>0.365246</td>\n",
              "      <td>0.587558</td>\n",
              "      <td>0.889118</td>\n",
              "      <td>0.818391</td>\n",
              "      <td>0.037789</td>\n",
              "      <td>unstable</td>\n",
              "    </tr>\n",
              "    <tr>\n",
              "      <th>9999</th>\n",
              "      <td>6.530527</td>\n",
              "      <td>6.781790</td>\n",
              "      <td>4.349695</td>\n",
              "      <td>8.673138</td>\n",
              "      <td>3.492807</td>\n",
              "      <td>-1.390285</td>\n",
              "      <td>-1.532193</td>\n",
              "      <td>-0.570329</td>\n",
              "      <td>0.073056</td>\n",
              "      <td>0.505441</td>\n",
              "      <td>0.378761</td>\n",
              "      <td>0.942631</td>\n",
              "      <td>0.045263</td>\n",
              "      <td>unstable</td>\n",
              "    </tr>\n",
              "  </tbody>\n",
              "</table>\n",
              "<p>10000 rows × 14 columns</p>\n",
              "</div>"
            ],
            "text/plain": [
              "          tau1      tau2      tau3  ...        g4      stab     stabf\n",
              "0     2.959060  3.079885  8.381025  ...  0.958034  0.055347  unstable\n",
              "1     9.304097  4.902524  3.047541  ...  0.781760 -0.005957    stable\n",
              "2     8.971707  8.848428  3.046479  ...  0.109853  0.003471  unstable\n",
              "3     0.716415  7.669600  4.486641  ...  0.362718  0.028871  unstable\n",
              "4     3.134112  7.608772  4.943759  ...  0.820923  0.049860  unstable\n",
              "...        ...       ...       ...  ...       ...       ...       ...\n",
              "9995  2.930406  9.487627  2.376523  ...  0.608385  0.023892  unstable\n",
              "9996  3.392299  1.274827  2.954947  ...  0.366120 -0.025803    stable\n",
              "9997  2.364034  2.842030  8.776391  ...  0.145984 -0.031810    stable\n",
              "9998  9.631511  3.994398  2.757071  ...  0.818391  0.037789  unstable\n",
              "9999  6.530527  6.781790  4.349695  ...  0.942631  0.045263  unstable\n",
              "\n",
              "[10000 rows x 14 columns]"
            ]
          },
          "metadata": {
            "tags": []
          },
          "execution_count": 1
        }
      ]
    },
    {
      "cell_type": "code",
      "metadata": {
        "colab": {
          "base_uri": "https://localhost:8080/"
        },
        "id": "0FfYxr5JMx36",
        "outputId": "14151dde-0382-424f-d144-f4898b05a23e"
      },
      "source": [
        "df.columns"
      ],
      "execution_count": null,
      "outputs": [
        {
          "output_type": "execute_result",
          "data": {
            "text/plain": [
              "Index(['tau1', 'tau2', 'tau3', 'tau4', 'p1', 'p2', 'p3', 'p4', 'g1', 'g2',\n",
              "       'g3', 'g4', 'stab', 'stabf'],\n",
              "      dtype='object')"
            ]
          },
          "metadata": {
            "tags": []
          },
          "execution_count": 2
        }
      ]
    },
    {
      "cell_type": "markdown",
      "metadata": {
        "id": "k_thpeaSPA6m"
      },
      "source": [
        "### Conducting Exploratory Data Analysis\n",
        "In this dataset, there are 12 input features and 2 outputs / target features. \"stab\" and \"stabf\" have direct relationship, and one can be dropped (\"stab\" is dropped in this case)."
      ]
    },
    {
      "cell_type": "code",
      "metadata": {
        "colab": {
          "base_uri": "https://localhost:8080/"
        },
        "id": "h7m2FOXJQXVw",
        "outputId": "74cd903b-1213-4dee-aae0-5695f5ce7a5f"
      },
      "source": [
        "#checking for null values in the dataset\n",
        "df.isna().sum() "
      ],
      "execution_count": null,
      "outputs": [
        {
          "output_type": "execute_result",
          "data": {
            "text/plain": [
              "tau1     0\n",
              "tau2     0\n",
              "tau3     0\n",
              "tau4     0\n",
              "p1       0\n",
              "p2       0\n",
              "p3       0\n",
              "p4       0\n",
              "g1       0\n",
              "g2       0\n",
              "g3       0\n",
              "g4       0\n",
              "stab     0\n",
              "stabf    0\n",
              "dtype: int64"
            ]
          },
          "metadata": {
            "tags": []
          },
          "execution_count": 3
        }
      ]
    },
    {
      "cell_type": "markdown",
      "metadata": {
        "id": "RdhGcQwMQBfi"
      },
      "source": [
        "As expected, data cleaning/ wrangling isn't required since this is a simulated dataset. So we have a clean dataset with no missing values on our hands."
      ]
    },
    {
      "cell_type": "code",
      "metadata": {
        "colab": {
          "base_uri": "https://localhost:8080/",
          "height": 419
        },
        "id": "49lWih8c9hBs",
        "outputId": "677e30dd-f90e-4b8e-f851-f6af4883d17f"
      },
      "source": [
        "df = df.drop(['stab'], axis=1)\n",
        "df"
      ],
      "execution_count": null,
      "outputs": [
        {
          "output_type": "execute_result",
          "data": {
            "text/html": [
              "<div>\n",
              "<style scoped>\n",
              "    .dataframe tbody tr th:only-of-type {\n",
              "        vertical-align: middle;\n",
              "    }\n",
              "\n",
              "    .dataframe tbody tr th {\n",
              "        vertical-align: top;\n",
              "    }\n",
              "\n",
              "    .dataframe thead th {\n",
              "        text-align: right;\n",
              "    }\n",
              "</style>\n",
              "<table border=\"1\" class=\"dataframe\">\n",
              "  <thead>\n",
              "    <tr style=\"text-align: right;\">\n",
              "      <th></th>\n",
              "      <th>tau1</th>\n",
              "      <th>tau2</th>\n",
              "      <th>tau3</th>\n",
              "      <th>tau4</th>\n",
              "      <th>p1</th>\n",
              "      <th>p2</th>\n",
              "      <th>p3</th>\n",
              "      <th>p4</th>\n",
              "      <th>g1</th>\n",
              "      <th>g2</th>\n",
              "      <th>g3</th>\n",
              "      <th>g4</th>\n",
              "      <th>stabf</th>\n",
              "    </tr>\n",
              "  </thead>\n",
              "  <tbody>\n",
              "    <tr>\n",
              "      <th>0</th>\n",
              "      <td>2.959060</td>\n",
              "      <td>3.079885</td>\n",
              "      <td>8.381025</td>\n",
              "      <td>9.780754</td>\n",
              "      <td>3.763085</td>\n",
              "      <td>-0.782604</td>\n",
              "      <td>-1.257395</td>\n",
              "      <td>-1.723086</td>\n",
              "      <td>0.650456</td>\n",
              "      <td>0.859578</td>\n",
              "      <td>0.887445</td>\n",
              "      <td>0.958034</td>\n",
              "      <td>unstable</td>\n",
              "    </tr>\n",
              "    <tr>\n",
              "      <th>1</th>\n",
              "      <td>9.304097</td>\n",
              "      <td>4.902524</td>\n",
              "      <td>3.047541</td>\n",
              "      <td>1.369357</td>\n",
              "      <td>5.067812</td>\n",
              "      <td>-1.940058</td>\n",
              "      <td>-1.872742</td>\n",
              "      <td>-1.255012</td>\n",
              "      <td>0.413441</td>\n",
              "      <td>0.862414</td>\n",
              "      <td>0.562139</td>\n",
              "      <td>0.781760</td>\n",
              "      <td>stable</td>\n",
              "    </tr>\n",
              "    <tr>\n",
              "      <th>2</th>\n",
              "      <td>8.971707</td>\n",
              "      <td>8.848428</td>\n",
              "      <td>3.046479</td>\n",
              "      <td>1.214518</td>\n",
              "      <td>3.405158</td>\n",
              "      <td>-1.207456</td>\n",
              "      <td>-1.277210</td>\n",
              "      <td>-0.920492</td>\n",
              "      <td>0.163041</td>\n",
              "      <td>0.766689</td>\n",
              "      <td>0.839444</td>\n",
              "      <td>0.109853</td>\n",
              "      <td>unstable</td>\n",
              "    </tr>\n",
              "    <tr>\n",
              "      <th>3</th>\n",
              "      <td>0.716415</td>\n",
              "      <td>7.669600</td>\n",
              "      <td>4.486641</td>\n",
              "      <td>2.340563</td>\n",
              "      <td>3.963791</td>\n",
              "      <td>-1.027473</td>\n",
              "      <td>-1.938944</td>\n",
              "      <td>-0.997374</td>\n",
              "      <td>0.446209</td>\n",
              "      <td>0.976744</td>\n",
              "      <td>0.929381</td>\n",
              "      <td>0.362718</td>\n",
              "      <td>unstable</td>\n",
              "    </tr>\n",
              "    <tr>\n",
              "      <th>4</th>\n",
              "      <td>3.134112</td>\n",
              "      <td>7.608772</td>\n",
              "      <td>4.943759</td>\n",
              "      <td>9.857573</td>\n",
              "      <td>3.525811</td>\n",
              "      <td>-1.125531</td>\n",
              "      <td>-1.845975</td>\n",
              "      <td>-0.554305</td>\n",
              "      <td>0.797110</td>\n",
              "      <td>0.455450</td>\n",
              "      <td>0.656947</td>\n",
              "      <td>0.820923</td>\n",
              "      <td>unstable</td>\n",
              "    </tr>\n",
              "    <tr>\n",
              "      <th>...</th>\n",
              "      <td>...</td>\n",
              "      <td>...</td>\n",
              "      <td>...</td>\n",
              "      <td>...</td>\n",
              "      <td>...</td>\n",
              "      <td>...</td>\n",
              "      <td>...</td>\n",
              "      <td>...</td>\n",
              "      <td>...</td>\n",
              "      <td>...</td>\n",
              "      <td>...</td>\n",
              "      <td>...</td>\n",
              "      <td>...</td>\n",
              "    </tr>\n",
              "    <tr>\n",
              "      <th>9995</th>\n",
              "      <td>2.930406</td>\n",
              "      <td>9.487627</td>\n",
              "      <td>2.376523</td>\n",
              "      <td>6.187797</td>\n",
              "      <td>3.343416</td>\n",
              "      <td>-0.658054</td>\n",
              "      <td>-1.449106</td>\n",
              "      <td>-1.236256</td>\n",
              "      <td>0.601709</td>\n",
              "      <td>0.779642</td>\n",
              "      <td>0.813512</td>\n",
              "      <td>0.608385</td>\n",
              "      <td>unstable</td>\n",
              "    </tr>\n",
              "    <tr>\n",
              "      <th>9996</th>\n",
              "      <td>3.392299</td>\n",
              "      <td>1.274827</td>\n",
              "      <td>2.954947</td>\n",
              "      <td>6.894759</td>\n",
              "      <td>4.349512</td>\n",
              "      <td>-1.663661</td>\n",
              "      <td>-0.952437</td>\n",
              "      <td>-1.733414</td>\n",
              "      <td>0.502079</td>\n",
              "      <td>0.567242</td>\n",
              "      <td>0.285880</td>\n",
              "      <td>0.366120</td>\n",
              "      <td>stable</td>\n",
              "    </tr>\n",
              "    <tr>\n",
              "      <th>9997</th>\n",
              "      <td>2.364034</td>\n",
              "      <td>2.842030</td>\n",
              "      <td>8.776391</td>\n",
              "      <td>1.008906</td>\n",
              "      <td>4.299976</td>\n",
              "      <td>-1.380719</td>\n",
              "      <td>-0.943884</td>\n",
              "      <td>-1.975373</td>\n",
              "      <td>0.487838</td>\n",
              "      <td>0.986505</td>\n",
              "      <td>0.149286</td>\n",
              "      <td>0.145984</td>\n",
              "      <td>stable</td>\n",
              "    </tr>\n",
              "    <tr>\n",
              "      <th>9998</th>\n",
              "      <td>9.631511</td>\n",
              "      <td>3.994398</td>\n",
              "      <td>2.757071</td>\n",
              "      <td>7.821347</td>\n",
              "      <td>2.514755</td>\n",
              "      <td>-0.966330</td>\n",
              "      <td>-0.649915</td>\n",
              "      <td>-0.898510</td>\n",
              "      <td>0.365246</td>\n",
              "      <td>0.587558</td>\n",
              "      <td>0.889118</td>\n",
              "      <td>0.818391</td>\n",
              "      <td>unstable</td>\n",
              "    </tr>\n",
              "    <tr>\n",
              "      <th>9999</th>\n",
              "      <td>6.530527</td>\n",
              "      <td>6.781790</td>\n",
              "      <td>4.349695</td>\n",
              "      <td>8.673138</td>\n",
              "      <td>3.492807</td>\n",
              "      <td>-1.390285</td>\n",
              "      <td>-1.532193</td>\n",
              "      <td>-0.570329</td>\n",
              "      <td>0.073056</td>\n",
              "      <td>0.505441</td>\n",
              "      <td>0.378761</td>\n",
              "      <td>0.942631</td>\n",
              "      <td>unstable</td>\n",
              "    </tr>\n",
              "  </tbody>\n",
              "</table>\n",
              "<p>10000 rows × 13 columns</p>\n",
              "</div>"
            ],
            "text/plain": [
              "          tau1      tau2      tau3  ...        g3        g4     stabf\n",
              "0     2.959060  3.079885  8.381025  ...  0.887445  0.958034  unstable\n",
              "1     9.304097  4.902524  3.047541  ...  0.562139  0.781760    stable\n",
              "2     8.971707  8.848428  3.046479  ...  0.839444  0.109853  unstable\n",
              "3     0.716415  7.669600  4.486641  ...  0.929381  0.362718  unstable\n",
              "4     3.134112  7.608772  4.943759  ...  0.656947  0.820923  unstable\n",
              "...        ...       ...       ...  ...       ...       ...       ...\n",
              "9995  2.930406  9.487627  2.376523  ...  0.813512  0.608385  unstable\n",
              "9996  3.392299  1.274827  2.954947  ...  0.285880  0.366120    stable\n",
              "9997  2.364034  2.842030  8.776391  ...  0.149286  0.145984    stable\n",
              "9998  9.631511  3.994398  2.757071  ...  0.889118  0.818391  unstable\n",
              "9999  6.530527  6.781790  4.349695  ...  0.378761  0.942631  unstable\n",
              "\n",
              "[10000 rows x 13 columns]"
            ]
          },
          "metadata": {
            "tags": []
          },
          "execution_count": 4
        }
      ]
    },
    {
      "cell_type": "code",
      "metadata": {
        "colab": {
          "base_uri": "https://localhost:8080/"
        },
        "id": "Cy4F3FT5UWPF",
        "outputId": "507b4a55-a197-4c00-ee3b-f09d527536c1"
      },
      "source": [
        "#check the distribution of target variables\n",
        "df['stabf'].value_counts()"
      ],
      "execution_count": null,
      "outputs": [
        {
          "output_type": "execute_result",
          "data": {
            "text/plain": [
              "unstable    6380\n",
              "stable      3620\n",
              "Name: stabf, dtype: int64"
            ]
          },
          "metadata": {
            "tags": []
          },
          "execution_count": 5
        }
      ]
    },
    {
      "cell_type": "code",
      "metadata": {
        "colab": {
          "base_uri": "https://localhost:8080/"
        },
        "id": "pnTGgeKe9xkE",
        "outputId": "5c959269-98eb-4c09-c6aa-5ff8e1bf7b3d"
      },
      "source": [
        "df.dtypes"
      ],
      "execution_count": null,
      "outputs": [
        {
          "output_type": "execute_result",
          "data": {
            "text/plain": [
              "tau1     float64\n",
              "tau2     float64\n",
              "tau3     float64\n",
              "tau4     float64\n",
              "p1       float64\n",
              "p2       float64\n",
              "p3       float64\n",
              "p4       float64\n",
              "g1       float64\n",
              "g2       float64\n",
              "g3       float64\n",
              "g4       float64\n",
              "stabf     object\n",
              "dtype: object"
            ]
          },
          "metadata": {
            "tags": []
          },
          "execution_count": 6
        }
      ]
    },
    {
      "cell_type": "markdown",
      "metadata": {
        "id": "61oNxScw-eMh"
      },
      "source": [
        "The labels has categorical values, and can be encoded to be useful in the ML\n",
        "\n",
        "\n"
      ]
    },
    {
      "cell_type": "code",
      "metadata": {
        "id": "BWRaFtcX-vZ2"
      },
      "source": [
        "# Encoding the labels using LabelEncoder\n",
        "from sklearn.preprocessing import LabelEncoder\n",
        "encoder = LabelEncoder()\n",
        "df.stabf = encoder.fit_transform(df.stabf)\n",
        "\n"
      ],
      "execution_count": null,
      "outputs": []
    },
    {
      "cell_type": "code",
      "metadata": {
        "colab": {
          "base_uri": "https://localhost:8080/",
          "height": 204
        },
        "id": "Wcq8kWAJA3kK",
        "outputId": "5df16dc0-2303-4bf6-84a9-efefeecdb027"
      },
      "source": [
        "df.head()"
      ],
      "execution_count": null,
      "outputs": [
        {
          "output_type": "execute_result",
          "data": {
            "text/html": [
              "<div>\n",
              "<style scoped>\n",
              "    .dataframe tbody tr th:only-of-type {\n",
              "        vertical-align: middle;\n",
              "    }\n",
              "\n",
              "    .dataframe tbody tr th {\n",
              "        vertical-align: top;\n",
              "    }\n",
              "\n",
              "    .dataframe thead th {\n",
              "        text-align: right;\n",
              "    }\n",
              "</style>\n",
              "<table border=\"1\" class=\"dataframe\">\n",
              "  <thead>\n",
              "    <tr style=\"text-align: right;\">\n",
              "      <th></th>\n",
              "      <th>tau1</th>\n",
              "      <th>tau2</th>\n",
              "      <th>tau3</th>\n",
              "      <th>tau4</th>\n",
              "      <th>p1</th>\n",
              "      <th>p2</th>\n",
              "      <th>p3</th>\n",
              "      <th>p4</th>\n",
              "      <th>g1</th>\n",
              "      <th>g2</th>\n",
              "      <th>g3</th>\n",
              "      <th>g4</th>\n",
              "      <th>stabf</th>\n",
              "    </tr>\n",
              "  </thead>\n",
              "  <tbody>\n",
              "    <tr>\n",
              "      <th>0</th>\n",
              "      <td>2.959060</td>\n",
              "      <td>3.079885</td>\n",
              "      <td>8.381025</td>\n",
              "      <td>9.780754</td>\n",
              "      <td>3.763085</td>\n",
              "      <td>-0.782604</td>\n",
              "      <td>-1.257395</td>\n",
              "      <td>-1.723086</td>\n",
              "      <td>0.650456</td>\n",
              "      <td>0.859578</td>\n",
              "      <td>0.887445</td>\n",
              "      <td>0.958034</td>\n",
              "      <td>1</td>\n",
              "    </tr>\n",
              "    <tr>\n",
              "      <th>1</th>\n",
              "      <td>9.304097</td>\n",
              "      <td>4.902524</td>\n",
              "      <td>3.047541</td>\n",
              "      <td>1.369357</td>\n",
              "      <td>5.067812</td>\n",
              "      <td>-1.940058</td>\n",
              "      <td>-1.872742</td>\n",
              "      <td>-1.255012</td>\n",
              "      <td>0.413441</td>\n",
              "      <td>0.862414</td>\n",
              "      <td>0.562139</td>\n",
              "      <td>0.781760</td>\n",
              "      <td>0</td>\n",
              "    </tr>\n",
              "    <tr>\n",
              "      <th>2</th>\n",
              "      <td>8.971707</td>\n",
              "      <td>8.848428</td>\n",
              "      <td>3.046479</td>\n",
              "      <td>1.214518</td>\n",
              "      <td>3.405158</td>\n",
              "      <td>-1.207456</td>\n",
              "      <td>-1.277210</td>\n",
              "      <td>-0.920492</td>\n",
              "      <td>0.163041</td>\n",
              "      <td>0.766689</td>\n",
              "      <td>0.839444</td>\n",
              "      <td>0.109853</td>\n",
              "      <td>1</td>\n",
              "    </tr>\n",
              "    <tr>\n",
              "      <th>3</th>\n",
              "      <td>0.716415</td>\n",
              "      <td>7.669600</td>\n",
              "      <td>4.486641</td>\n",
              "      <td>2.340563</td>\n",
              "      <td>3.963791</td>\n",
              "      <td>-1.027473</td>\n",
              "      <td>-1.938944</td>\n",
              "      <td>-0.997374</td>\n",
              "      <td>0.446209</td>\n",
              "      <td>0.976744</td>\n",
              "      <td>0.929381</td>\n",
              "      <td>0.362718</td>\n",
              "      <td>1</td>\n",
              "    </tr>\n",
              "    <tr>\n",
              "      <th>4</th>\n",
              "      <td>3.134112</td>\n",
              "      <td>7.608772</td>\n",
              "      <td>4.943759</td>\n",
              "      <td>9.857573</td>\n",
              "      <td>3.525811</td>\n",
              "      <td>-1.125531</td>\n",
              "      <td>-1.845975</td>\n",
              "      <td>-0.554305</td>\n",
              "      <td>0.797110</td>\n",
              "      <td>0.455450</td>\n",
              "      <td>0.656947</td>\n",
              "      <td>0.820923</td>\n",
              "      <td>1</td>\n",
              "    </tr>\n",
              "  </tbody>\n",
              "</table>\n",
              "</div>"
            ],
            "text/plain": [
              "       tau1      tau2      tau3      tau4  ...        g2        g3        g4  stabf\n",
              "0  2.959060  3.079885  8.381025  9.780754  ...  0.859578  0.887445  0.958034      1\n",
              "1  9.304097  4.902524  3.047541  1.369357  ...  0.862414  0.562139  0.781760      0\n",
              "2  8.971707  8.848428  3.046479  1.214518  ...  0.766689  0.839444  0.109853      1\n",
              "3  0.716415  7.669600  4.486641  2.340563  ...  0.976744  0.929381  0.362718      1\n",
              "4  3.134112  7.608772  4.943759  9.857573  ...  0.455450  0.656947  0.820923      1\n",
              "\n",
              "[5 rows x 13 columns]"
            ]
          },
          "metadata": {
            "tags": []
          },
          "execution_count": 8
        }
      ]
    },
    {
      "cell_type": "code",
      "metadata": {
        "id": "tkCm_0h3GAFd"
      },
      "source": [
        "# splitting the Data set into 80-20\n",
        "features_df = df.drop(columns=[\"stabf\"])\n",
        "target_var = df[\"stabf\"]\n",
        "from sklearn.model_selection import train_test_split\n",
        "x_train, x_test, y_train, y_test = train_test_split(features_df, target_var, test_size=0.2, random_state=42)\n"
      ],
      "execution_count": null,
      "outputs": []
    },
    {
      "cell_type": "code",
      "metadata": {
        "colab": {
          "base_uri": "https://localhost:8080/",
          "height": 419
        },
        "id": "0srNz5XhTmvO",
        "outputId": "444e0e13-a5ab-47bd-a305-d20c35a99e86"
      },
      "source": [
        "x_test"
      ],
      "execution_count": null,
      "outputs": [
        {
          "output_type": "execute_result",
          "data": {
            "text/html": [
              "<div>\n",
              "<style scoped>\n",
              "    .dataframe tbody tr th:only-of-type {\n",
              "        vertical-align: middle;\n",
              "    }\n",
              "\n",
              "    .dataframe tbody tr th {\n",
              "        vertical-align: top;\n",
              "    }\n",
              "\n",
              "    .dataframe thead th {\n",
              "        text-align: right;\n",
              "    }\n",
              "</style>\n",
              "<table border=\"1\" class=\"dataframe\">\n",
              "  <thead>\n",
              "    <tr style=\"text-align: right;\">\n",
              "      <th></th>\n",
              "      <th>tau1</th>\n",
              "      <th>tau2</th>\n",
              "      <th>tau3</th>\n",
              "      <th>tau4</th>\n",
              "      <th>p1</th>\n",
              "      <th>p2</th>\n",
              "      <th>p3</th>\n",
              "      <th>p4</th>\n",
              "      <th>g1</th>\n",
              "      <th>g2</th>\n",
              "      <th>g3</th>\n",
              "      <th>g4</th>\n",
              "    </tr>\n",
              "  </thead>\n",
              "  <tbody>\n",
              "    <tr>\n",
              "      <th>6252</th>\n",
              "      <td>1.953136</td>\n",
              "      <td>9.692422</td>\n",
              "      <td>6.570391</td>\n",
              "      <td>7.737644</td>\n",
              "      <td>5.128952</td>\n",
              "      <td>-1.860248</td>\n",
              "      <td>-1.380687</td>\n",
              "      <td>-1.888018</td>\n",
              "      <td>0.487235</td>\n",
              "      <td>0.934229</td>\n",
              "      <td>0.433606</td>\n",
              "      <td>0.328522</td>\n",
              "    </tr>\n",
              "    <tr>\n",
              "      <th>4684</th>\n",
              "      <td>4.613690</td>\n",
              "      <td>9.423079</td>\n",
              "      <td>1.424423</td>\n",
              "      <td>7.372338</td>\n",
              "      <td>4.655631</td>\n",
              "      <td>-1.716394</td>\n",
              "      <td>-1.182286</td>\n",
              "      <td>-1.756951</td>\n",
              "      <td>0.395106</td>\n",
              "      <td>0.772211</td>\n",
              "      <td>0.911199</td>\n",
              "      <td>0.328193</td>\n",
              "    </tr>\n",
              "    <tr>\n",
              "      <th>1731</th>\n",
              "      <td>2.738001</td>\n",
              "      <td>1.341172</td>\n",
              "      <td>7.986504</td>\n",
              "      <td>9.842747</td>\n",
              "      <td>5.007610</td>\n",
              "      <td>-1.275363</td>\n",
              "      <td>-1.877241</td>\n",
              "      <td>-1.855006</td>\n",
              "      <td>0.162310</td>\n",
              "      <td>0.175994</td>\n",
              "      <td>0.897505</td>\n",
              "      <td>0.601356</td>\n",
              "    </tr>\n",
              "    <tr>\n",
              "      <th>4742</th>\n",
              "      <td>2.006512</td>\n",
              "      <td>2.311770</td>\n",
              "      <td>4.410704</td>\n",
              "      <td>2.726592</td>\n",
              "      <td>4.396237</td>\n",
              "      <td>-1.532751</td>\n",
              "      <td>-1.327943</td>\n",
              "      <td>-1.535543</td>\n",
              "      <td>0.053894</td>\n",
              "      <td>0.573440</td>\n",
              "      <td>0.061032</td>\n",
              "      <td>0.775629</td>\n",
              "    </tr>\n",
              "    <tr>\n",
              "      <th>4521</th>\n",
              "      <td>3.993497</td>\n",
              "      <td>3.742481</td>\n",
              "      <td>8.975171</td>\n",
              "      <td>1.182813</td>\n",
              "      <td>2.875057</td>\n",
              "      <td>-1.170108</td>\n",
              "      <td>-1.117862</td>\n",
              "      <td>-0.587086</td>\n",
              "      <td>0.100005</td>\n",
              "      <td>0.753533</td>\n",
              "      <td>0.437366</td>\n",
              "      <td>0.611471</td>\n",
              "    </tr>\n",
              "    <tr>\n",
              "      <th>...</th>\n",
              "      <td>...</td>\n",
              "      <td>...</td>\n",
              "      <td>...</td>\n",
              "      <td>...</td>\n",
              "      <td>...</td>\n",
              "      <td>...</td>\n",
              "      <td>...</td>\n",
              "      <td>...</td>\n",
              "      <td>...</td>\n",
              "      <td>...</td>\n",
              "      <td>...</td>\n",
              "      <td>...</td>\n",
              "    </tr>\n",
              "    <tr>\n",
              "      <th>6412</th>\n",
              "      <td>5.117675</td>\n",
              "      <td>3.088960</td>\n",
              "      <td>2.976820</td>\n",
              "      <td>2.466869</td>\n",
              "      <td>4.117734</td>\n",
              "      <td>-1.615723</td>\n",
              "      <td>-1.686818</td>\n",
              "      <td>-0.815193</td>\n",
              "      <td>0.975329</td>\n",
              "      <td>0.131288</td>\n",
              "      <td>0.624945</td>\n",
              "      <td>0.319099</td>\n",
              "    </tr>\n",
              "    <tr>\n",
              "      <th>8285</th>\n",
              "      <td>7.389044</td>\n",
              "      <td>4.188243</td>\n",
              "      <td>7.833049</td>\n",
              "      <td>8.318825</td>\n",
              "      <td>4.377603</td>\n",
              "      <td>-1.807714</td>\n",
              "      <td>-1.251285</td>\n",
              "      <td>-1.318604</td>\n",
              "      <td>0.247289</td>\n",
              "      <td>0.560363</td>\n",
              "      <td>0.721662</td>\n",
              "      <td>0.814183</td>\n",
              "    </tr>\n",
              "    <tr>\n",
              "      <th>7853</th>\n",
              "      <td>2.577338</td>\n",
              "      <td>3.053335</td>\n",
              "      <td>4.766831</td>\n",
              "      <td>2.724220</td>\n",
              "      <td>3.773472</td>\n",
              "      <td>-0.685856</td>\n",
              "      <td>-1.979726</td>\n",
              "      <td>-1.107890</td>\n",
              "      <td>0.212701</td>\n",
              "      <td>0.611949</td>\n",
              "      <td>0.713549</td>\n",
              "      <td>0.790318</td>\n",
              "    </tr>\n",
              "    <tr>\n",
              "      <th>1095</th>\n",
              "      <td>7.408768</td>\n",
              "      <td>8.290950</td>\n",
              "      <td>9.408268</td>\n",
              "      <td>3.786504</td>\n",
              "      <td>2.718477</td>\n",
              "      <td>-0.525626</td>\n",
              "      <td>-1.047839</td>\n",
              "      <td>-1.145012</td>\n",
              "      <td>0.851844</td>\n",
              "      <td>0.771679</td>\n",
              "      <td>0.411093</td>\n",
              "      <td>0.551705</td>\n",
              "    </tr>\n",
              "    <tr>\n",
              "      <th>6929</th>\n",
              "      <td>7.724162</td>\n",
              "      <td>5.269625</td>\n",
              "      <td>7.505064</td>\n",
              "      <td>2.691429</td>\n",
              "      <td>4.259048</td>\n",
              "      <td>-1.143711</td>\n",
              "      <td>-1.602878</td>\n",
              "      <td>-1.512459</td>\n",
              "      <td>0.635034</td>\n",
              "      <td>0.064074</td>\n",
              "      <td>0.853767</td>\n",
              "      <td>0.177766</td>\n",
              "    </tr>\n",
              "  </tbody>\n",
              "</table>\n",
              "<p>2000 rows × 12 columns</p>\n",
              "</div>"
            ],
            "text/plain": [
              "          tau1      tau2      tau3  ...        g2        g3        g4\n",
              "6252  1.953136  9.692422  6.570391  ...  0.934229  0.433606  0.328522\n",
              "4684  4.613690  9.423079  1.424423  ...  0.772211  0.911199  0.328193\n",
              "1731  2.738001  1.341172  7.986504  ...  0.175994  0.897505  0.601356\n",
              "4742  2.006512  2.311770  4.410704  ...  0.573440  0.061032  0.775629\n",
              "4521  3.993497  3.742481  8.975171  ...  0.753533  0.437366  0.611471\n",
              "...        ...       ...       ...  ...       ...       ...       ...\n",
              "6412  5.117675  3.088960  2.976820  ...  0.131288  0.624945  0.319099\n",
              "8285  7.389044  4.188243  7.833049  ...  0.560363  0.721662  0.814183\n",
              "7853  2.577338  3.053335  4.766831  ...  0.611949  0.713549  0.790318\n",
              "1095  7.408768  8.290950  9.408268  ...  0.771679  0.411093  0.551705\n",
              "6929  7.724162  5.269625  7.505064  ...  0.064074  0.853767  0.177766\n",
              "\n",
              "[2000 rows x 12 columns]"
            ]
          },
          "metadata": {
            "tags": []
          },
          "execution_count": 10
        }
      ]
    },
    {
      "cell_type": "code",
      "metadata": {
        "id": "RGMPG2OjPjd2"
      },
      "source": [
        "from sklearn.preprocessing import StandardScaler\n",
        "scaler = StandardScaler()\n",
        "normalised_train = scaler.fit_transform(x_train)\n",
        "normalised_test = scaler.transform(x_test)"
      ],
      "execution_count": null,
      "outputs": []
    },
    {
      "cell_type": "code",
      "metadata": {
        "colab": {
          "base_uri": "https://localhost:8080/",
          "height": 204
        },
        "id": "ZwgD4ig5Rc9A",
        "outputId": "52704848-0244-44d5-d760-c9ce78dab2e4"
      },
      "source": [
        "normalised_train_df = pd.DataFrame(normalised_train, columns=x_train.columns)\n",
        "normalised_test_df = pd.DataFrame(normalised_test, columns=x_test.columns)\n",
        "normalised_test_df.head()\n"
      ],
      "execution_count": null,
      "outputs": [
        {
          "output_type": "execute_result",
          "data": {
            "text/html": [
              "<div>\n",
              "<style scoped>\n",
              "    .dataframe tbody tr th:only-of-type {\n",
              "        vertical-align: middle;\n",
              "    }\n",
              "\n",
              "    .dataframe tbody tr th {\n",
              "        vertical-align: top;\n",
              "    }\n",
              "\n",
              "    .dataframe thead th {\n",
              "        text-align: right;\n",
              "    }\n",
              "</style>\n",
              "<table border=\"1\" class=\"dataframe\">\n",
              "  <thead>\n",
              "    <tr style=\"text-align: right;\">\n",
              "      <th></th>\n",
              "      <th>tau1</th>\n",
              "      <th>tau2</th>\n",
              "      <th>tau3</th>\n",
              "      <th>tau4</th>\n",
              "      <th>p1</th>\n",
              "      <th>p2</th>\n",
              "      <th>p3</th>\n",
              "      <th>p4</th>\n",
              "      <th>g1</th>\n",
              "      <th>g2</th>\n",
              "      <th>g3</th>\n",
              "      <th>g4</th>\n",
              "    </tr>\n",
              "  </thead>\n",
              "  <tbody>\n",
              "    <tr>\n",
              "      <th>0</th>\n",
              "      <td>-1.207970</td>\n",
              "      <td>1.621278</td>\n",
              "      <td>0.474596</td>\n",
              "      <td>0.903599</td>\n",
              "      <td>1.827426</td>\n",
              "      <td>-1.405505</td>\n",
              "      <td>-0.298795</td>\n",
              "      <td>-1.473501</td>\n",
              "      <td>-0.125303</td>\n",
              "      <td>1.495269</td>\n",
              "      <td>-0.340664</td>\n",
              "      <td>-0.710809</td>\n",
              "    </tr>\n",
              "    <tr>\n",
              "      <th>1</th>\n",
              "      <td>-0.236465</td>\n",
              "      <td>1.523228</td>\n",
              "      <td>-1.397889</td>\n",
              "      <td>0.770313</td>\n",
              "      <td>1.199172</td>\n",
              "      <td>-1.073654</td>\n",
              "      <td>0.159557</td>\n",
              "      <td>-1.170871</td>\n",
              "      <td>-0.462513</td>\n",
              "      <td>0.904370</td>\n",
              "      <td>1.402113</td>\n",
              "      <td>-0.712010</td>\n",
              "    </tr>\n",
              "    <tr>\n",
              "      <th>2</th>\n",
              "      <td>-0.921376</td>\n",
              "      <td>-1.418850</td>\n",
              "      <td>0.989883</td>\n",
              "      <td>1.671670</td>\n",
              "      <td>1.666364</td>\n",
              "      <td>-0.056256</td>\n",
              "      <td>-1.445948</td>\n",
              "      <td>-1.397277</td>\n",
              "      <td>-1.314594</td>\n",
              "      <td>-1.270104</td>\n",
              "      <td>1.352142</td>\n",
              "      <td>0.284672</td>\n",
              "    </tr>\n",
              "    <tr>\n",
              "      <th>3</th>\n",
              "      <td>-1.188480</td>\n",
              "      <td>-1.065520</td>\n",
              "      <td>-0.311258</td>\n",
              "      <td>-0.924739</td>\n",
              "      <td>0.854870</td>\n",
              "      <td>-0.650015</td>\n",
              "      <td>-0.176944</td>\n",
              "      <td>-0.659644</td>\n",
              "      <td>-1.711417</td>\n",
              "      <td>0.179430</td>\n",
              "      <td>-1.700217</td>\n",
              "      <td>0.920539</td>\n",
              "    </tr>\n",
              "    <tr>\n",
              "      <th>4</th>\n",
              "      <td>-0.462929</td>\n",
              "      <td>-0.544695</td>\n",
              "      <td>1.349634</td>\n",
              "      <td>-1.488004</td>\n",
              "      <td>-1.164239</td>\n",
              "      <td>0.186554</td>\n",
              "      <td>0.308389</td>\n",
              "      <td>1.530324</td>\n",
              "      <td>-1.542641</td>\n",
              "      <td>0.836248</td>\n",
              "      <td>-0.326944</td>\n",
              "      <td>0.321580</td>\n",
              "    </tr>\n",
              "  </tbody>\n",
              "</table>\n",
              "</div>"
            ],
            "text/plain": [
              "       tau1      tau2      tau3  ...        g2        g3        g4\n",
              "0 -1.207970  1.621278  0.474596  ...  1.495269 -0.340664 -0.710809\n",
              "1 -0.236465  1.523228 -1.397889  ...  0.904370  1.402113 -0.712010\n",
              "2 -0.921376 -1.418850  0.989883  ... -1.270104  1.352142  0.284672\n",
              "3 -1.188480 -1.065520 -0.311258  ...  0.179430 -1.700217  0.920539\n",
              "4 -0.462929 -0.544695  1.349634  ...  0.836248 -0.326944  0.321580\n",
              "\n",
              "[5 rows x 12 columns]"
            ]
          },
          "metadata": {
            "tags": []
          },
          "execution_count": 12
        }
      ]
    },
    {
      "cell_type": "code",
      "metadata": {
        "colab": {
          "base_uri": "https://localhost:8080/"
        },
        "id": "RBixkqmsXkGp",
        "outputId": "76e593de-8f55-42ff-a265-55faac294eb7"
      },
      "source": [
        "# Selecting a Binary Classifier model, Logistic Regression and importing the libraries\n",
        "\n",
        "from sklearn.linear_model import LogisticRegression\n",
        "log_reg = LogisticRegression()\n",
        "\n",
        "# Fit the Classifier with the train features\n",
        "log_reg.fit(normalised_train_df, y_train)\n"
      ],
      "execution_count": null,
      "outputs": [
        {
          "output_type": "execute_result",
          "data": {
            "text/plain": [
              "LogisticRegression(C=1.0, class_weight=None, dual=False, fit_intercept=True,\n",
              "                   intercept_scaling=1, l1_ratio=None, max_iter=100,\n",
              "                   multi_class='auto', n_jobs=None, penalty='l2',\n",
              "                   random_state=None, solver='lbfgs', tol=0.0001, verbose=0,\n",
              "                   warm_start=False)"
            ]
          },
          "metadata": {
            "tags": []
          },
          "execution_count": 13
        }
      ]
    },
    {
      "cell_type": "code",
      "metadata": {
        "id": "qjLhKbaFcEew"
      },
      "source": [
        "# The trained model is ready to make predictions\n",
        "pred = log_reg.predict(normalised_test_df)"
      ],
      "execution_count": null,
      "outputs": []
    },
    {
      "cell_type": "markdown",
      "metadata": {
        "id": "25qmjkpBaYbB"
      },
      "source": [
        "MEASURING CLASSIFICATION PERFORMANCE"
      ]
    },
    {
      "cell_type": "code",
      "metadata": {
        "colab": {
          "base_uri": "https://localhost:8080/"
        },
        "id": "A2KUodCCjGtc",
        "outputId": "91624836-826f-463c-87d0-719392bc8930"
      },
      "source": [
        "# Computing the confusion matrix for the model. Logistic Regression Confussion Matrix\n",
        "# import metrics\n",
        "from sklearn.metrics import recall_score, accuracy_score, precision_score, f1_score, confusion_matrix\n",
        "cnf_mat = confusion_matrix(y_true=y_test, y_pred=pred, labels=[0,1])\n",
        "cnf_mat"
      ],
      "execution_count": null,
      "outputs": [
        {
          "output_type": "execute_result",
          "data": {
            "text/plain": [
              "array([[ 498,  195],\n",
              "       [ 173, 1134]])"
            ]
          },
          "metadata": {
            "tags": []
          },
          "execution_count": 15
        }
      ]
    },
    {
      "cell_type": "code",
      "metadata": {
        "colab": {
          "base_uri": "https://localhost:8080/",
          "height": 111
        },
        "id": "TjcpRpW7luhJ",
        "outputId": "be18417d-266d-49cd-a3b7-449b5eda0339"
      },
      "source": [
        "# Previewing the Confusion Matrix in DataFrame\n",
        "cnf_mat_df = pd.DataFrame(cnf_mat, columns=['Actual Positive', 'Actual Negative'], \n",
        "                          index=['Predicted Positive', 'Predicted Negative'])\n",
        "cnf_mat_df"
      ],
      "execution_count": null,
      "outputs": [
        {
          "output_type": "execute_result",
          "data": {
            "text/html": [
              "<div>\n",
              "<style scoped>\n",
              "    .dataframe tbody tr th:only-of-type {\n",
              "        vertical-align: middle;\n",
              "    }\n",
              "\n",
              "    .dataframe tbody tr th {\n",
              "        vertical-align: top;\n",
              "    }\n",
              "\n",
              "    .dataframe thead th {\n",
              "        text-align: right;\n",
              "    }\n",
              "</style>\n",
              "<table border=\"1\" class=\"dataframe\">\n",
              "  <thead>\n",
              "    <tr style=\"text-align: right;\">\n",
              "      <th></th>\n",
              "      <th>Actual Positive</th>\n",
              "      <th>Actual Negative</th>\n",
              "    </tr>\n",
              "  </thead>\n",
              "  <tbody>\n",
              "    <tr>\n",
              "      <th>Predicted Positive</th>\n",
              "      <td>498</td>\n",
              "      <td>195</td>\n",
              "    </tr>\n",
              "    <tr>\n",
              "      <th>Predicted Negative</th>\n",
              "      <td>173</td>\n",
              "      <td>1134</td>\n",
              "    </tr>\n",
              "  </tbody>\n",
              "</table>\n",
              "</div>"
            ],
            "text/plain": [
              "                    Actual Positive  Actual Negative\n",
              "Predicted Positive              498              195\n",
              "Predicted Negative              173             1134"
            ]
          },
          "metadata": {
            "tags": []
          },
          "execution_count": 16
        }
      ]
    },
    {
      "cell_type": "code",
      "metadata": {
        "colab": {
          "base_uri": "https://localhost:8080/"
        },
        "id": "nDruQjq_l38U",
        "outputId": "69ae860e-1132-4c79-805d-f2e6786a82e1"
      },
      "source": [
        "print(\"{} is the bumber of True Positive (TP).\".format(cnf_mat_df.iloc[0,0]))\n",
        "print(\"{} is the bumber of False Positive (FP).\".format(cnf_mat_df.iloc[0,1])) # Type I error\n",
        "print(\"{} is the bumber of True Negative (TP).\".format(cnf_mat_df.iloc[1,0]))\n",
        "print(\"{} is the bumber of False Negative (TP).\".format(cnf_mat_df.iloc[1,1]))  # Type II error"
      ],
      "execution_count": null,
      "outputs": [
        {
          "output_type": "stream",
          "text": [
            "498 is the bumber of True Positive (TP).\n",
            "195 is the bumber of False Positive (FP).\n",
            "173 is the bumber of True Negative (TP).\n",
            "1134 is the bumber of False Negative (TP).\n"
          ],
          "name": "stdout"
        }
      ]
    },
    {
      "cell_type": "code",
      "metadata": {
        "colab": {
          "base_uri": "https://localhost:8080/"
        },
        "id": "TqKN4qAZmTx0",
        "outputId": "94cb8fa5-da68-4c9b-bbde-03d20adde0e5"
      },
      "source": [
        "# Calculate Accuracy\n",
        "# NOTE: Accuracy is only accurate if the model is balanced. It will give inaccurate results if there is a class imbalance.\n",
        "\n",
        "accuracy = accuracy_score(y_true=y_test, y_pred=pred)\n",
        "print('Accuracy: {}'.format(round(accuracy*100), 2))"
      ],
      "execution_count": null,
      "outputs": [
        {
          "output_type": "stream",
          "text": [
            "Accuracy: 82.0\n"
          ],
          "name": "stdout"
        }
      ]
    },
    {
      "cell_type": "code",
      "metadata": {
        "colab": {
          "base_uri": "https://localhost:8080/"
        },
        "id": "Xd-ecsFhnB2Z",
        "outputId": "c5e5c8e8-43e4-4e82-efee-f8ec88defde7"
      },
      "source": [
        "# PRECISION \n",
        "# Precision is the ratio of correctly predicted instances of a class to the total number of items predicted by the model to be in that class\n",
        "\n",
        "precision = precision_score(y_true=y_test, y_pred=pred, pos_label=0)\n",
        "print('Precision: {}'.format(round(precision*100), 2))"
      ],
      "execution_count": null,
      "outputs": [
        {
          "output_type": "stream",
          "text": [
            "Precision: 74.0\n"
          ],
          "name": "stdout"
        }
      ]
    },
    {
      "cell_type": "code",
      "metadata": {
        "colab": {
          "base_uri": "https://localhost:8080/"
        },
        "id": "8AyuBCsmnmwH",
        "outputId": "84f49041-a6f9-4674-8e8f-bd5486608c82"
      },
      "source": [
        "# Recall\n",
        "\n",
        "recall = recall_score(y_true=y_test, y_pred=pred, pos_label=0)\n",
        "print(\"Recall: {}\".format(round(recall*100), 2))"
      ],
      "execution_count": null,
      "outputs": [
        {
          "output_type": "stream",
          "text": [
            "Recall: 72.0\n"
          ],
          "name": "stdout"
        }
      ]
    },
    {
      "cell_type": "code",
      "metadata": {
        "colab": {
          "base_uri": "https://localhost:8080/"
        },
        "id": "PbiGvxXRoMZG",
        "outputId": "224dfd3d-dfbb-44a0-fef9-270264b52873"
      },
      "source": [
        "# F1_Score\n",
        "\n",
        "f1 = f1_score(y_true=y_test, y_pred=pred, pos_label=0)\n",
        "print(\"F1: {}\".format(round(f1*100),2))"
      ],
      "execution_count": null,
      "outputs": [
        {
          "output_type": "stream",
          "text": [
            "F1: 73.0\n"
          ],
          "name": "stdout"
        }
      ]
    },
    {
      "cell_type": "code",
      "metadata": {
        "colab": {
          "base_uri": "https://localhost:8080/"
        },
        "id": "ZDCgMTJyxkjz",
        "outputId": "60f4b88e-c81a-46b2-cfc8-4f97b763e88f"
      },
      "source": [
        "from sklearn.metrics import classification_report\n",
        "print(classification_report(y_test, pred, digits=4))"
      ],
      "execution_count": null,
      "outputs": [
        {
          "output_type": "stream",
          "text": [
            "              precision    recall  f1-score   support\n",
            "\n",
            "           0     0.7422    0.7186    0.7302       693\n",
            "           1     0.8533    0.8676    0.8604      1307\n",
            "\n",
            "    accuracy                         0.8160      2000\n",
            "   macro avg     0.7977    0.7931    0.7953      2000\n",
            "weighted avg     0.8148    0.8160    0.8153      2000\n",
            "\n"
          ],
          "name": "stdout"
        }
      ]
    },
    {
      "cell_type": "markdown",
      "metadata": {
        "id": "2KV6zrfzyoxS"
      },
      "source": [
        "Performing Evaluation Operation techniques for improving performance"
      ]
    },
    {
      "cell_type": "code",
      "metadata": {
        "colab": {
          "base_uri": "https://localhost:8080/"
        },
        "id": "RPx3Hv-Xy2Gl",
        "outputId": "e8747a84-63aa-4b97-edd9-16a933083b8d"
      },
      "source": [
        "# Cross Validation\n",
        "from sklearn.model_selection import cross_val_score\n",
        "scores = cross_val_score(log_reg, normalised_train_df, y_train, cv=None, scoring=None)\n",
        "scores*100"
      ],
      "execution_count": null,
      "outputs": [
        {
          "output_type": "execute_result",
          "data": {
            "text/plain": [
              "array([80.0625, 81.5   , 82.5625, 81.75  , 81.8125])"
            ]
          },
          "metadata": {
            "tags": []
          },
          "execution_count": 23
        }
      ]
    },
    {
      "cell_type": "markdown",
      "metadata": {
        "id": "fXRji-DclooM"
      },
      "source": [
        "## Training a Random Forest Classifier"
      ]
    },
    {
      "cell_type": "code",
      "metadata": {
        "colab": {
          "base_uri": "https://localhost:8080/"
        },
        "id": "QjTHANHdI36G",
        "outputId": "37127f65-324e-470e-fecb-44a52a09253c"
      },
      "source": [
        "# Training a Random Forest Classifier\n",
        "from sklearn.ensemble import RandomForestClassifier\n",
        "classifier = RandomForestClassifier(random_state=1)\n",
        "\n",
        "# Train the model using the training sets\n",
        "classifier.fit(normalised_train_df, y_train)"
      ],
      "execution_count": null,
      "outputs": [
        {
          "output_type": "execute_result",
          "data": {
            "text/plain": [
              "RandomForestClassifier(bootstrap=True, ccp_alpha=0.0, class_weight=None,\n",
              "                       criterion='gini', max_depth=None, max_features='auto',\n",
              "                       max_leaf_nodes=None, max_samples=None,\n",
              "                       min_impurity_decrease=0.0, min_impurity_split=None,\n",
              "                       min_samples_leaf=1, min_samples_split=2,\n",
              "                       min_weight_fraction_leaf=0.0, n_estimators=100,\n",
              "                       n_jobs=None, oob_score=False, random_state=1, verbose=0,\n",
              "                       warm_start=False)"
            ]
          },
          "metadata": {
            "tags": []
          },
          "execution_count": 24
        }
      ]
    },
    {
      "cell_type": "markdown",
      "metadata": {
        "id": "ks5VU271YO4G"
      },
      "source": [
        "**The above output shows different parameter values of the trained random forest classifier.**"
      ]
    },
    {
      "cell_type": "code",
      "metadata": {
        "id": "QYxk0x3TX6UF"
      },
      "source": [
        "# Predict on the test set\n",
        "rfc_pred = classifier.predict(normalised_test_df)"
      ],
      "execution_count": null,
      "outputs": []
    },
    {
      "cell_type": "code",
      "metadata": {
        "colab": {
          "base_uri": "https://localhost:8080/"
        },
        "id": "fN6k38l1ZXVA",
        "outputId": "d4ac6da2-7450-4f4e-b98d-6899e53607be"
      },
      "source": [
        "# Check Random Forest Classifier Model Accuracy using actual and predicted values from the test data\n",
        "print(\"Accuracy:\", accuracy_score(y_test, rfc_pred))"
      ],
      "execution_count": null,
      "outputs": [
        {
          "output_type": "stream",
          "text": [
            "Accuracy: 0.9065\n"
          ],
          "name": "stdout"
        }
      ]
    },
    {
      "cell_type": "code",
      "metadata": {
        "colab": {
          "base_uri": "https://localhost:8080/"
        },
        "id": "GkE8Fx3aaarZ",
        "outputId": "c9c7f1a6-adfc-49af-e7f9-602b7a12592e"
      },
      "source": [
        "print(classification_report(y_test, rfc_pred, digits=4))"
      ],
      "execution_count": null,
      "outputs": [
        {
          "output_type": "stream",
          "text": [
            "              precision    recall  f1-score   support\n",
            "\n",
            "           0     0.8677    0.8615    0.8646       693\n",
            "           1     0.9268    0.9304    0.9286      1307\n",
            "\n",
            "    accuracy                         0.9065      2000\n",
            "   macro avg     0.8973    0.8959    0.8966      2000\n",
            "weighted avg     0.9064    0.9065    0.9064      2000\n",
            "\n"
          ],
          "name": "stdout"
        }
      ]
    },
    {
      "cell_type": "markdown",
      "metadata": {
        "id": "zlwTse1wa5oq"
      },
      "source": [
        "We can notice improvement in our predictions. Accuracy with Logistic Regressor model was **80%**, but our Random Forest Classifier model performed better with an accuracy of **92%** (as expected) "
      ]
    },
    {
      "cell_type": "code",
      "metadata": {
        "colab": {
          "base_uri": "https://localhost:8080/",
          "height": 421
        },
        "id": "X0I4Bto0bBVe",
        "outputId": "f5e80873-4f53-475a-e6de-2d4a6ea2b995"
      },
      "source": [
        "# check Important features\n",
        "feature_importances_df = pd.DataFrame(\n",
        "    {\"feature\": list(x_train.columns), \"importance\": classifier.feature_importances_}\n",
        ").sort_values(\"importance\", ascending=False)\n",
        "\n",
        "feature_importances_df"
      ],
      "execution_count": null,
      "outputs": [
        {
          "output_type": "execute_result",
          "data": {
            "text/html": [
              "<div>\n",
              "<style scoped>\n",
              "    .dataframe tbody tr th:only-of-type {\n",
              "        vertical-align: middle;\n",
              "    }\n",
              "\n",
              "    .dataframe tbody tr th {\n",
              "        vertical-align: top;\n",
              "    }\n",
              "\n",
              "    .dataframe thead th {\n",
              "        text-align: right;\n",
              "    }\n",
              "</style>\n",
              "<table border=\"1\" class=\"dataframe\">\n",
              "  <thead>\n",
              "    <tr style=\"text-align: right;\">\n",
              "      <th></th>\n",
              "      <th>feature</th>\n",
              "      <th>importance</th>\n",
              "    </tr>\n",
              "  </thead>\n",
              "  <tbody>\n",
              "    <tr>\n",
              "      <th>1</th>\n",
              "      <td>tau2</td>\n",
              "      <td>0.130032</td>\n",
              "    </tr>\n",
              "    <tr>\n",
              "      <th>3</th>\n",
              "      <td>tau4</td>\n",
              "      <td>0.126352</td>\n",
              "    </tr>\n",
              "    <tr>\n",
              "      <th>2</th>\n",
              "      <td>tau3</td>\n",
              "      <td>0.125131</td>\n",
              "    </tr>\n",
              "    <tr>\n",
              "      <th>0</th>\n",
              "      <td>tau1</td>\n",
              "      <td>0.118740</td>\n",
              "    </tr>\n",
              "    <tr>\n",
              "      <th>10</th>\n",
              "      <td>g3</td>\n",
              "      <td>0.099402</td>\n",
              "    </tr>\n",
              "    <tr>\n",
              "      <th>11</th>\n",
              "      <td>g4</td>\n",
              "      <td>0.097027</td>\n",
              "    </tr>\n",
              "    <tr>\n",
              "      <th>9</th>\n",
              "      <td>g2</td>\n",
              "      <td>0.094009</td>\n",
              "    </tr>\n",
              "    <tr>\n",
              "      <th>8</th>\n",
              "      <td>g1</td>\n",
              "      <td>0.093111</td>\n",
              "    </tr>\n",
              "    <tr>\n",
              "      <th>6</th>\n",
              "      <td>p3</td>\n",
              "      <td>0.030020</td>\n",
              "    </tr>\n",
              "    <tr>\n",
              "      <th>7</th>\n",
              "      <td>p4</td>\n",
              "      <td>0.029561</td>\n",
              "    </tr>\n",
              "    <tr>\n",
              "      <th>5</th>\n",
              "      <td>p2</td>\n",
              "      <td>0.028751</td>\n",
              "    </tr>\n",
              "    <tr>\n",
              "      <th>4</th>\n",
              "      <td>p1</td>\n",
              "      <td>0.027863</td>\n",
              "    </tr>\n",
              "  </tbody>\n",
              "</table>\n",
              "</div>"
            ],
            "text/plain": [
              "   feature  importance\n",
              "1     tau2    0.130032\n",
              "3     tau4    0.126352\n",
              "2     tau3    0.125131\n",
              "0     tau1    0.118740\n",
              "10      g3    0.099402\n",
              "11      g4    0.097027\n",
              "9       g2    0.094009\n",
              "8       g1    0.093111\n",
              "6       p3    0.030020\n",
              "7       p4    0.029561\n",
              "5       p2    0.028751\n",
              "4       p1    0.027863"
            ]
          },
          "metadata": {
            "tags": []
          },
          "execution_count": 28
        }
      ]
    },
    {
      "cell_type": "code",
      "metadata": {
        "colab": {
          "base_uri": "https://localhost:8080/",
          "height": 318
        },
        "id": "FMGO0pechami",
        "outputId": "f318103d-8fee-430d-813a-5a5c3a4446ca"
      },
      "source": [
        "# visualize important featuers\n",
        "\n",
        "import numpy as np\n",
        "import pandas as pd\n",
        "import matplotlib.pyplot as plt\n",
        "import seaborn as sns\n",
        "\n",
        "%matplotlib inline\n",
        "\n",
        "# Creating a bar plot\n",
        "sns.barplot(x=feature_importances_df.feature, y=feature_importances_df.importance)\n",
        "\n",
        "plt.xlabel(\"Feature Importance Score\")\n",
        "plt.ylabel(\"Features\")\n",
        "plt.title(\"Visualizing Important Features\")\n",
        "\n",
        "plt.xticks(\n",
        "    rotation=45, horizontalalignment=\"right\", fontweight=\"light\", fontsize=\"x-large\"\n",
        ")\n",
        "plt.show()"
      ],
      "execution_count": null,
      "outputs": [
        {
          "output_type": "display_data",
          "data": {
            "image/png": "[encoded data removed]",
            "text/plain": [
              "<Figure size 432x288 with 1 Axes>"
            ]
          },
          "metadata": {
            "tags": [],
            "needs_background": "light"
          }
        }
      ]
    },
    {
      "cell_type": "markdown",
      "metadata": {
        "id": "yU0dOTemlQrJ"
      },
      "source": [
        "## Training an Extra Tree Classifier"
      ]
    },
    {
      "cell_type": "code",
      "metadata": {
        "colab": {
          "base_uri": "https://localhost:8080/"
        },
        "id": "qLoomllWlClr",
        "outputId": "2fab1b33-7adb-47da-8d81-07d174c6835c"
      },
      "source": [
        "#extra tree classifier\n",
        "from sklearn.ensemble import ExtraTreesClassifier\n",
        "extratree = ExtraTreesClassifier(random_state=42)\n",
        "extratree.fit(normalised_train_df, y_train)\n"
      ],
      "execution_count": null,
      "outputs": [
        {
          "output_type": "execute_result",
          "data": {
            "text/plain": [
              "ExtraTreesClassifier(bootstrap=False, ccp_alpha=0.0, class_weight=None,\n",
              "                     criterion='gini', max_depth=None, max_features='auto',\n",
              "                     max_leaf_nodes=None, max_samples=None,\n",
              "                     min_impurity_decrease=0.0, min_impurity_split=None,\n",
              "                     min_samples_leaf=1, min_samples_split=2,\n",
              "                     min_weight_fraction_leaf=0.0, n_estimators=100,\n",
              "                     n_jobs=None, oob_score=False, random_state=42, verbose=0,\n",
              "                     warm_start=False)"
            ]
          },
          "metadata": {
            "tags": []
          },
          "execution_count": 30
        }
      ]
    },
    {
      "cell_type": "code",
      "metadata": {
        "id": "UkRCDekxoqjB"
      },
      "source": [
        "extratree_pred = extratree.predict(normalised_test_df)"
      ],
      "execution_count": null,
      "outputs": []
    },
    {
      "cell_type": "code",
      "metadata": {
        "colab": {
          "base_uri": "https://localhost:8080/"
        },
        "id": "DraQvyDIo-Y5",
        "outputId": "3585a03e-cfd3-4263-f597-483bbce2f9f5"
      },
      "source": [
        "# Setting the Hyperparameters\n",
        "n_estimators = [50, 100, 300, 500, 1000]\n",
        "min_samples_split = [2, 3, 5, 7, 9] \n",
        "min_samples_leaf = [1, 2, 4, 6, 8]\n",
        "max_features = ['auto', 'sqrt', 'log2', None] \n",
        "\n",
        "hyperparameter_grid = {'n_estimators': n_estimators,\n",
        "                       'min_samples_leaf': min_samples_leaf,\n",
        "                       'min_samples_split': min_samples_split,\n",
        "                       'max_features': max_features}\n",
        "\n",
        "print(hyperparameter_grid)"
      ],
      "execution_count": null,
      "outputs": [
        {
          "output_type": "stream",
          "text": [
            "{'n_estimators': [50, 100, 300, 500, 1000], 'min_samples_leaf': [1, 2, 4, 6, 8], 'min_samples_split': [2, 3, 5, 7, 9], 'max_features': ['auto', 'sqrt', 'log2', None]}\n"
          ],
          "name": "stdout"
        }
      ]
    },
    {
      "cell_type": "code",
      "metadata": {
        "colab": {
          "base_uri": "https://localhost:8080/"
        },
        "id": "X9Kr6R_FUYXH",
        "outputId": "b2361824-4b2d-4b73-dcb4-e2f5097f0a6e"
      },
      "source": [
        "# First define the base model to tune: Let's use the Extra Tree Classfier as our Base Model\n",
        "#classifier = RandomForestClassifier(random_state=1)\n",
        "\n",
        "extratree = ExtraTreesClassifier(random_state=1)\n",
        "\n",
        "from sklearn.model_selection import RandomizedSearchCV\n",
        "search_random = RandomizedSearchCV(\n",
        "                          extratree, hyperparameter_grid, random_state=42, cv=5,\n",
        "                          n_iter=10, scoring = 'accuracy', n_jobs = -1, verbose = 1\n",
        "                          )\n",
        "search_random.fit(normalised_train_df, y_train)"
      ],
      "execution_count": null,
      "outputs": [
        {
          "output_type": "stream",
          "text": [
            "Fitting 5 folds for each of 10 candidates, totalling 50 fits\n"
          ],
          "name": "stdout"
        },
        {
          "output_type": "stream",
          "text": [
            "[Parallel(n_jobs=-1)]: Using backend LokyBackend with 2 concurrent workers.\n",
            "[Parallel(n_jobs=-1)]: Done  46 tasks      | elapsed:  2.2min\n",
            "[Parallel(n_jobs=-1)]: Done  50 out of  50 | elapsed:  2.2min finished\n"
          ],
          "name": "stderr"
        },
        {
          "output_type": "execute_result",
          "data": {
            "text/plain": [
              "RandomizedSearchCV(cv=5, error_score=nan,\n",
              "                   estimator=ExtraTreesClassifier(bootstrap=False,\n",
              "                                                  ccp_alpha=0.0,\n",
              "                                                  class_weight=None,\n",
              "                                                  criterion='gini',\n",
              "                                                  max_depth=None,\n",
              "                                                  max_features='auto',\n",
              "                                                  max_leaf_nodes=None,\n",
              "                                                  max_samples=None,\n",
              "                                                  min_impurity_decrease=0.0,\n",
              "                                                  min_impurity_split=None,\n",
              "                                                  min_samples_leaf=1,\n",
              "                                                  min_samples_split=2,\n",
              "                                                  min_weight_fraction_leaf=0.0,\n",
              "                                                  n_estimators=100, n_jobs=...\n",
              "                                                  random_state=1, verbose=0,\n",
              "                                                  warm_start=False),\n",
              "                   iid='deprecated', n_iter=10, n_jobs=-1,\n",
              "                   param_distributions={'max_features': ['auto', 'sqrt', 'log2',\n",
              "                                                         None],\n",
              "                                        'min_samples_leaf': [1, 2, 4, 6, 8],\n",
              "                                        'min_samples_split': [2, 3, 5, 7, 9],\n",
              "                                        'n_estimators': [50, 100, 300, 500,\n",
              "                                                         1000]},\n",
              "                   pre_dispatch='2*n_jobs', random_state=42, refit=True,\n",
              "                   return_train_score=False, scoring='accuracy', verbose=1)"
            ]
          },
          "metadata": {
            "tags": []
          },
          "execution_count": 33
        }
      ]
    },
    {
      "cell_type": "code",
      "metadata": {
        "id": "_V-f_dbjKluy"
      },
      "source": [
        "# Predict\n",
        "randomisedsearchCV_pred = search_random.predict(normalised_test_df)"
      ],
      "execution_count": null,
      "outputs": []
    },
    {
      "cell_type": "code",
      "metadata": {
        "colab": {
          "base_uri": "https://localhost:8080/"
        },
        "id": "ibisONTbLGTL",
        "outputId": "43a404c4-ee51-46a2-ee68-70313445389f"
      },
      "source": [
        "# Evaluate\n",
        "# Classification report for the xgboost classifier \n",
        "print(classification_report(y_test, randomisedsearchCV_pred))"
      ],
      "execution_count": null,
      "outputs": [
        {
          "output_type": "stream",
          "text": [
            "              precision    recall  f1-score   support\n",
            "\n",
            "           0       0.91      0.88      0.89       693\n",
            "           1       0.94      0.95      0.94      1307\n",
            "\n",
            "    accuracy                           0.93      2000\n",
            "   macro avg       0.92      0.92      0.92      2000\n",
            "weighted avg       0.93      0.93      0.93      2000\n",
            "\n"
          ],
          "name": "stdout"
        }
      ]
    },
    {
      "cell_type": "code",
      "metadata": {
        "colab": {
          "base_uri": "https://localhost:8080/"
        },
        "id": "8B7gOgnWVJeZ",
        "outputId": "3703616e-8775-454e-e49f-e6dbdf8fc31d"
      },
      "source": [
        "#checking for the best parameter grid from the random search\n",
        "search_random.best_params_"
      ],
      "execution_count": null,
      "outputs": [
        {
          "output_type": "execute_result",
          "data": {
            "text/plain": [
              "{'max_features': None,\n",
              " 'min_samples_leaf': 1,\n",
              " 'min_samples_split': 2,\n",
              " 'n_estimators': 300}"
            ]
          },
          "metadata": {
            "tags": []
          },
          "execution_count": 36
        }
      ]
    },
    {
      "cell_type": "code",
      "metadata": {
        "colab": {
          "base_uri": "https://localhost:8080/"
        },
        "id": "A-N7J_dmVq1E",
        "outputId": "407750ea-10cb-4b08-9684-dd20aa756404"
      },
      "source": [
        "search_random.cv_results_"
      ],
      "execution_count": null,
      "outputs": [
        {
          "output_type": "execute_result",
          "data": {
            "text/plain": [
              "{'mean_fit_time': array([ 0.67420053,  3.73174839,  6.59511027,  0.43305011,  6.61663785,\n",
              "        15.47358718,  4.96703653,  6.59416599,  3.76233006,  0.67350531]),\n",
              " 'mean_score_time': array([0.05294504, 0.28517447, 0.51941414, 0.03334665, 0.50641756,\n",
              "        0.52113614, 0.16424203, 0.52370629, 0.28177118, 0.02512679]),\n",
              " 'mean_test_score': array([0.90025 , 0.91675 , 0.90475 , 0.912875, 0.90475 , 0.930875,\n",
              "        0.93125 , 0.90475 , 0.91725 , 0.924125]),\n",
              " 'param_max_features': masked_array(data=['log2', 'auto', 'log2', 'sqrt', 'auto', None, None,\n",
              "                    'auto', 'auto', None],\n",
              "              mask=[False, False, False, False, False, False, False, False,\n",
              "                    False, False],\n",
              "        fill_value='?',\n",
              "             dtype=object),\n",
              " 'param_min_samples_leaf': masked_array(data=[8, 4, 8, 2, 8, 1, 1, 8, 4, 6],\n",
              "              mask=[False, False, False, False, False, False, False, False,\n",
              "                    False, False],\n",
              "        fill_value='?',\n",
              "             dtype=object),\n",
              " 'param_min_samples_split': masked_array(data=[5, 9, 9, 3, 2, 7, 2, 9, 7, 2],\n",
              "              mask=[False, False, False, False, False, False, False, False,\n",
              "                    False, False],\n",
              "        fill_value='?',\n",
              "             dtype=object),\n",
              " 'param_n_estimators': masked_array(data=[100, 500, 1000, 50, 1000, 1000, 300, 1000, 500, 50],\n",
              "              mask=[False, False, False, False, False, False, False, False,\n",
              "                    False, False],\n",
              "        fill_value='?',\n",
              "             dtype=object),\n",
              " 'params': [{'max_features': 'log2',\n",
              "   'min_samples_leaf': 8,\n",
              "   'min_samples_split': 5,\n",
              "   'n_estimators': 100},\n",
              "  {'max_features': 'auto',\n",
              "   'min_samples_leaf': 4,\n",
              "   'min_samples_split': 9,\n",
              "   'n_estimators': 500},\n",
              "  {'max_features': 'log2',\n",
              "   'min_samples_leaf': 8,\n",
              "   'min_samples_split': 9,\n",
              "   'n_estimators': 1000},\n",
              "  {'max_features': 'sqrt',\n",
              "   'min_samples_leaf': 2,\n",
              "   'min_samples_split': 3,\n",
              "   'n_estimators': 50},\n",
              "  {'max_features': 'auto',\n",
              "   'min_samples_leaf': 8,\n",
              "   'min_samples_split': 2,\n",
              "   'n_estimators': 1000},\n",
              "  {'max_features': None,\n",
              "   'min_samples_leaf': 1,\n",
              "   'min_samples_split': 7,\n",
              "   'n_estimators': 1000},\n",
              "  {'max_features': None,\n",
              "   'min_samples_leaf': 1,\n",
              "   'min_samples_split': 2,\n",
              "   'n_estimators': 300},\n",
              "  {'max_features': 'auto',\n",
              "   'min_samples_leaf': 8,\n",
              "   'min_samples_split': 9,\n",
              "   'n_estimators': 1000},\n",
              "  {'max_features': 'auto',\n",
              "   'min_samples_leaf': 4,\n",
              "   'min_samples_split': 7,\n",
              "   'n_estimators': 500},\n",
              "  {'max_features': None,\n",
              "   'min_samples_leaf': 6,\n",
              "   'min_samples_split': 2,\n",
              "   'n_estimators': 50}],\n",
              " 'rank_test_score': array([10,  5,  7,  6,  7,  2,  1,  7,  4,  3], dtype=int32),\n",
              " 'split0_test_score': array([0.911875, 0.91875 , 0.910625, 0.913125, 0.910625, 0.93625 ,\n",
              "        0.940625, 0.910625, 0.9175  , 0.928125]),\n",
              " 'split1_test_score': array([0.895   , 0.905   , 0.896875, 0.916875, 0.896875, 0.92875 ,\n",
              "        0.926875, 0.896875, 0.908125, 0.921875]),\n",
              " 'split2_test_score': array([0.893125, 0.91875 , 0.90625 , 0.913125, 0.90625 , 0.925625,\n",
              "        0.93125 , 0.90625 , 0.920625, 0.925625]),\n",
              " 'split3_test_score': array([0.90875 , 0.92125 , 0.908125, 0.916875, 0.908125, 0.93375 ,\n",
              "        0.93375 , 0.908125, 0.919375, 0.92375 ]),\n",
              " 'split4_test_score': array([0.8925  , 0.92    , 0.901875, 0.904375, 0.901875, 0.93    ,\n",
              "        0.92375 , 0.901875, 0.920625, 0.92125 ]),\n",
              " 'std_fit_time': array([0.00657681, 0.02890038, 0.02156744, 0.00941225, 0.03944033,\n",
              "        0.05548481, 0.02578082, 0.01816734, 0.00641728, 0.08207909]),\n",
              " 'std_score_time': array([0.00074586, 0.00756293, 0.01140046, 0.00073286, 0.00675143,\n",
              "        0.01043566, 0.00345409, 0.01575941, 0.00337948, 0.00354224]),\n",
              " 'std_test_score': array([0.00831602, 0.00594769, 0.00486698, 0.00456892, 0.00486698,\n",
              "        0.00374166, 0.00582291, 0.00486698, 0.00470372, 0.00251868])}"
            ]
          },
          "metadata": {
            "tags": []
          },
          "execution_count": 41
        }
      ]
    },
    {
      "cell_type": "code",
      "metadata": {
        "id": "5nuaFNRd5d9k"
      },
      "source": [
        "# Using the searched parameters build a model with the best performance\n",
        "besttree_param = ExtraTreesClassifier(n_estimators=1000, min_samples_split=2, \n",
        "                                 min_samples_leaf=8, max_features=None)\n",
        "besttree_param.fit(normalised_train_df, y_train)\n",
        "besttree_param_pred = besttree_param.predict(normalised_test_df)"
      ],
      "execution_count": null,
      "outputs": []
    },
    {
      "cell_type": "code",
      "metadata": {
        "colab": {
          "base_uri": "https://localhost:8080/"
        },
        "id": "v9ACcCUj7_d9",
        "outputId": "b14a101e-80f9-45e6-8465-dfb5c26057e9"
      },
      "source": [
        "# Classification report after this hyperparameter tuning\n",
        "print(classification_report(y_test, besttree_param_pred))"
      ],
      "execution_count": null,
      "outputs": [
        {
          "output_type": "stream",
          "text": [
            "              precision    recall  f1-score   support\n",
            "\n",
            "           0       0.90      0.86      0.88       693\n",
            "           1       0.93      0.95      0.94      1307\n",
            "\n",
            "    accuracy                           0.92      2000\n",
            "   macro avg       0.91      0.90      0.91      2000\n",
            "weighted avg       0.92      0.92      0.92      2000\n",
            "\n"
          ],
          "name": "stdout"
        }
      ]
    },
    {
      "cell_type": "markdown",
      "metadata": {
        "id": "Vo4L1x5QE1Na"
      },
      "source": [
        "## Finding the feature importance using the optimal Extra Trees Classifier Model"
      ]
    },
    {
      "cell_type": "code",
      "metadata": {
        "colab": {
          "base_uri": "https://localhost:8080/",
          "height": 421
        },
        "id": "b53pAxGSE15B",
        "outputId": "e5111c0c-1250-4f73-970f-1af36e0a16d9"
      },
      "source": [
        "# check Important features Using the Optimal Extra Trees model.\n",
        "# we will make use of the trained model\n",
        "\n",
        "feature_importances_df = pd.DataFrame(\n",
        "    {\"feature\": list(x_train.columns), \"importance\": besttree_param.feature_importances_}\n",
        ").sort_values(\"importance\", ascending=False)\n",
        "\n",
        "feature_importances_df"
      ],
      "execution_count": null,
      "outputs": [
        {
          "output_type": "execute_result",
          "data": {
            "text/html": [
              "<div>\n",
              "<style scoped>\n",
              "    .dataframe tbody tr th:only-of-type {\n",
              "        vertical-align: middle;\n",
              "    }\n",
              "\n",
              "    .dataframe tbody tr th {\n",
              "        vertical-align: top;\n",
              "    }\n",
              "\n",
              "    .dataframe thead th {\n",
              "        text-align: right;\n",
              "    }\n",
              "</style>\n",
              "<table border=\"1\" class=\"dataframe\">\n",
              "  <thead>\n",
              "    <tr style=\"text-align: right;\">\n",
              "      <th></th>\n",
              "      <th>feature</th>\n",
              "      <th>importance</th>\n",
              "    </tr>\n",
              "  </thead>\n",
              "  <tbody>\n",
              "    <tr>\n",
              "      <th>1</th>\n",
              "      <td>tau2</td>\n",
              "      <td>0.139590</td>\n",
              "    </tr>\n",
              "    <tr>\n",
              "      <th>2</th>\n",
              "      <td>tau3</td>\n",
              "      <td>0.138991</td>\n",
              "    </tr>\n",
              "    <tr>\n",
              "      <th>3</th>\n",
              "      <td>tau4</td>\n",
              "      <td>0.136169</td>\n",
              "    </tr>\n",
              "    <tr>\n",
              "      <th>0</th>\n",
              "      <td>tau1</td>\n",
              "      <td>0.132358</td>\n",
              "    </tr>\n",
              "    <tr>\n",
              "      <th>10</th>\n",
              "      <td>g3</td>\n",
              "      <td>0.113384</td>\n",
              "    </tr>\n",
              "    <tr>\n",
              "      <th>11</th>\n",
              "      <td>g4</td>\n",
              "      <td>0.108944</td>\n",
              "    </tr>\n",
              "    <tr>\n",
              "      <th>9</th>\n",
              "      <td>g2</td>\n",
              "      <td>0.106555</td>\n",
              "    </tr>\n",
              "    <tr>\n",
              "      <th>8</th>\n",
              "      <td>g1</td>\n",
              "      <td>0.104366</td>\n",
              "    </tr>\n",
              "    <tr>\n",
              "      <th>5</th>\n",
              "      <td>p2</td>\n",
              "      <td>0.005463</td>\n",
              "    </tr>\n",
              "    <tr>\n",
              "      <th>6</th>\n",
              "      <td>p3</td>\n",
              "      <td>0.005357</td>\n",
              "    </tr>\n",
              "    <tr>\n",
              "      <th>7</th>\n",
              "      <td>p4</td>\n",
              "      <td>0.005156</td>\n",
              "    </tr>\n",
              "    <tr>\n",
              "      <th>4</th>\n",
              "      <td>p1</td>\n",
              "      <td>0.003667</td>\n",
              "    </tr>\n",
              "  </tbody>\n",
              "</table>\n",
              "</div>"
            ],
            "text/plain": [
              "   feature  importance\n",
              "1     tau2    0.139590\n",
              "2     tau3    0.138991\n",
              "3     tau4    0.136169\n",
              "0     tau1    0.132358\n",
              "10      g3    0.113384\n",
              "11      g4    0.108944\n",
              "9       g2    0.106555\n",
              "8       g1    0.104366\n",
              "5       p2    0.005463\n",
              "6       p3    0.005357\n",
              "7       p4    0.005156\n",
              "4       p1    0.003667"
            ]
          },
          "metadata": {
            "tags": []
          },
          "execution_count": 44
        }
      ]
    },
    {
      "cell_type": "markdown",
      "metadata": {
        "id": "Nb6B3vRo997O"
      },
      "source": [
        "And use xgboost and lightgbm to train an extreme boosting model and a light gradient boosting model."
      ]
    },
    {
      "cell_type": "markdown",
      "metadata": {
        "id": "J60Wt12p-DKW"
      },
      "source": [
        "### **Training an Extreme Boosting Model**, XGBOOST\n",
        "\n"
      ]
    },
    {
      "cell_type": "code",
      "metadata": {
        "id": "Z6osuPF0-NIj"
      },
      "source": [
        "# Using xgboost to create an extreme gradient boosting model\n",
        "from xgboost import XGBClassifier\n",
        "extreme = XGBClassifier(random_state=42)\n",
        "extreme.fit(normalised_train_df, y_train)\n",
        "extreme_pred = extreme.predict(normalised_test_df)"
      ],
      "execution_count": null,
      "outputs": []
    },
    {
      "cell_type": "code",
      "metadata": {
        "colab": {
          "base_uri": "https://localhost:8080/"
        },
        "id": "d9yPR1I7_VaL",
        "outputId": "545af3ea-c139-4f46-c3c7-a421e0849729"
      },
      "source": [
        "# Classification report for the xgboost classifier \n",
        "print(classification_report(y_test, extreme_pred))\n"
      ],
      "execution_count": null,
      "outputs": [
        {
          "output_type": "stream",
          "text": [
            "              precision    recall  f1-score   support\n",
            "\n",
            "           0       0.89      0.84      0.87       693\n",
            "           1       0.92      0.95      0.93      1307\n",
            "\n",
            "    accuracy                           0.91      2000\n",
            "   macro avg       0.91      0.89      0.90      2000\n",
            "weighted avg       0.91      0.91      0.91      2000\n",
            "\n"
          ],
          "name": "stdout"
        }
      ]
    },
    {
      "cell_type": "markdown",
      "metadata": {
        "id": "Yz73QsrNBFAm"
      },
      "source": [
        "**This xgboost model gives an accuracy around 92%**"
      ]
    },
    {
      "cell_type": "markdown",
      "metadata": {
        "id": "8OvLPq_TAWb7"
      },
      "source": [
        "Removing less important features P1 could have improved the performance"
      ]
    },
    {
      "cell_type": "code",
      "metadata": {
        "id": "vGRWAvhE_kI1"
      },
      "source": [
        "# Using lightgbm to create a light gradient boosting model\n",
        "from lightgbm import LGBMClassifier\n",
        "light = LGBMClassifier()\n",
        "light.fit(normalised_train_df, y_train)\n",
        "light_pred = light.predict(normalised_test_df)"
      ],
      "execution_count": null,
      "outputs": []
    },
    {
      "cell_type": "code",
      "metadata": {
        "colab": {
          "base_uri": "https://localhost:8080/"
        },
        "id": "E6gX3MLGAmJL",
        "outputId": "7a1cce3d-4d28-412c-d948-e638df3b4a8e"
      },
      "source": [
        "# Classification report for the lightgbm classifier created above\n",
        "print(classification_report(y_test, light_pred))"
      ],
      "execution_count": null,
      "outputs": [
        {
          "output_type": "stream",
          "text": [
            "              precision    recall  f1-score   support\n",
            "\n",
            "           0       0.91      0.90      0.91       693\n",
            "           1       0.95      0.95      0.95      1307\n",
            "\n",
            "    accuracy                           0.94      2000\n",
            "   macro avg       0.93      0.93      0.93      2000\n",
            "weighted avg       0.94      0.94      0.94      2000\n",
            "\n"
          ],
          "name": "stdout"
        }
      ]
    },
    {
      "cell_type": "markdown",
      "metadata": {
        "id": "Biqhr-kRBh4d"
      },
      "source": [
        "**This lightgbm model has an accuracy of 92%**"
      ]
    }
  ]
}